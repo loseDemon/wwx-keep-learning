{
 "cells": [
  {
   "cell_type": "code",
   "execution_count": 114,
   "metadata": {
    "collapsed": true,
    "pycharm": {
     "is_executing": false
    }
   },
   "outputs": [],
   "source": [
    "from pyecharts.charts import Map\n",
    "from pyecharts import options as opts\n",
    "from pyecharts.datasets import COORDINATES\n",
    "from pyecharts.globals import ThemeType\n",
    "import numpy as np\n",
    "import json"
   ]
  },
  {
   "cell_type": "code",
   "execution_count": 136,
   "outputs": [],
   "source": [
    "s = json.load(open(\"../data_fetch/dxy_01261246.json\", \"r\", encoding=\"utf-8\"))\n",
    "data_list= [(\"西藏\", 0)]\n",
    "data_list.extend([(item[\"provinceShortName\"], \n",
    "              item[\"confirmedCount\"]) for item in s])"
   ],
   "metadata": {
    "collapsed": false,
    "pycharm": {
     "name": "#%%\n",
     "is_executing": false
    }
   }
  },
  {
   "cell_type": "code",
   "execution_count": 138,
   "outputs": [
    {
     "data": {
      "text/plain": "'F:\\\\MyProjects\\\\GitProjects\\\\Daily-Python-learning\\\\wuhan\\\\data_visualize\\\\map_1_color.html'"
     },
     "metadata": {},
     "output_type": "execute_result",
     "execution_count": 138
    }
   ],
   "source": [
    "map = Map(\n",
    "    init_opts=opts.InitOpts(\n",
    "        theme=ThemeType.CHALK,\n",
    "    )\n",
    ")\n",
    "\n",
    "map.add(\n",
    "    maptype=\"china\", \n",
    "    series_name=\"确诊\",    \n",
    "    data_pair=data_list,\n",
    "    center=COORDINATES[\"武汉\"],\n",
    "    is_map_symbol_show=False,\n",
    "    )\n",
    "\n",
    "map.set_global_opts(\n",
    "    title_opts=opts.TitleOpts(\n",
    "        title=\"2019nCov\",\n",
    "        pos_top=\"top\",\n",
    "        pos_left=\"left\",\n",
    "        title_link=\"https://wuhan.support/\",\n",
    "    ),\n",
    "    visualmap_opts=opts.VisualMapOpts(\n",
    "        type_=\"color\",\n",
    "        is_piecewise=True,\n",
    "        pieces=[\n",
    "            {\"min\": 1, \"max\": 9},\n",
    "            {\"min\": 10, \"max\": 99},\n",
    "            {\"min\": 100, \"max\": 999},\n",
    "            {\"min\": 1000},\n",
    "            {\"value\": 0, \"color\": \"white\"},\n",
    "        ],\n",
    "        max_=max(i[1] for i in data_list),\n",
    "        range_color=[\"#FFFFFF\", \"#CC2020\"],\n",
    "        pos_left=\"10%\",\n",
    "        pos_bottom=\"20%\",\n",
    "    ), \n",
    "    legend_opts=opts.LegendOpts(\n",
    "        is_show=False,   # 图例的显示，即add的名字\n",
    "    ),\n",
    "    tooltip_opts=opts.TooltipOpts(\n",
    "        formatter=\"省份：{b} | {a}：{c}\",\n",
    "    ),\n",
    "    toolbox_opts=opts.ToolboxOpts(\n",
    "        is_show=True\n",
    "    )\n",
    ")\n",
    "\n",
    "map.set_series_opts(\n",
    "    label_opts=opts.LabelOpts(\n",
    "        is_show=True,   # 标签是要显示的，但点不要\n",
    "    ), \n",
    " )\n",
    "\n",
    "map.render(\"map_1_color.html\")\n",
    "\n"
   ],
   "metadata": {
    "collapsed": false,
    "pycharm": {
     "name": "#%%\n",
     "is_executing": false
    }
   }
  },
  {
   "cell_type": "code",
   "execution_count": 100,
   "outputs": [
    {
     "data": {
      "text/plain": "<pyecharts.render.display.HTML at 0x267424e69c8>",
      "text/html": "\n<script>\n    require.config({\n        paths: {\n            'echarts':'https://assets.pyecharts.org/assets/echarts.min', 'china':'https://assets.pyecharts.org/assets/maps/china'\n        }\n    });\n</script>\n\n        <div id=\"999c604969aa4cff9d6a2890f71f4c8c\" style=\"width:900px; height:500px;\"></div>\n\n<script>\n        require(['echarts', 'china'], function(echarts) {\n                var chart_999c604969aa4cff9d6a2890f71f4c8c = echarts.init(\n                    document.getElementById('999c604969aa4cff9d6a2890f71f4c8c'), 'white', {renderer: 'canvas'});\n                var option_999c604969aa4cff9d6a2890f71f4c8c = {\n    \"animation\": true,\n    \"animationThreshold\": 2000,\n    \"animationDuration\": 1000,\n    \"animationEasing\": \"cubicOut\",\n    \"animationDelay\": 0,\n    \"animationDurationUpdate\": 300,\n    \"animationEasingUpdate\": \"cubicOut\",\n    \"animationDelayUpdate\": 0,\n    \"color\": [\n        \"#c23531\",\n        \"#2f4554\",\n        \"#61a0a8\",\n        \"#d48265\",\n        \"#749f83\",\n        \"#ca8622\",\n        \"#bda29a\",\n        \"#6e7074\",\n        \"#546570\",\n        \"#c4ccd3\",\n        \"#f05b72\",\n        \"#ef5b9c\",\n        \"#f47920\",\n        \"#905a3d\",\n        \"#fab27b\",\n        \"#2a5caa\",\n        \"#444693\",\n        \"#726930\",\n        \"#b2d235\",\n        \"#6d8346\",\n        \"#ac6767\",\n        \"#1d953f\",\n        \"#6950a1\",\n        \"#918597\"\n    ],\n    \"series\": [\n        {\n            \"type\": \"map\",\n            \"name\": \"\\u786e\\u8bca\",\n            \"label\": {\n                \"show\": true,\n                \"position\": \"top\",\n                \"margin\": 8\n            },\n            \"mapType\": \"china\",\n            \"data\": [\n                {\n                    \"name\": \"\\u6e56\\u5317\",\n                    \"value\": 1052\n                },\n                {\n                    \"name\": \"\\u6d59\\u6c5f\",\n                    \"value\": 104\n                },\n                {\n                    \"name\": \"\\u5e7f\\u4e1c\",\n                    \"value\": 98\n                },\n                {\n                    \"name\": \"\\u6cb3\\u5357\",\n                    \"value\": 83\n                },\n                {\n                    \"name\": \"\\u91cd\\u5e86\",\n                    \"value\": 75\n                },\n                {\n                    \"name\": \"\\u6e56\\u5357\",\n                    \"value\": 69\n                },\n                {\n                    \"name\": \"\\u5b89\\u5fbd\",\n                    \"value\": 60\n                },\n                {\n                    \"name\": \"\\u5317\\u4eac\",\n                    \"value\": 51\n                },\n                {\n                    \"name\": \"\\u56db\\u5ddd\",\n                    \"value\": 44\n                },\n                {\n                    \"name\": \"\\u4e0a\\u6d77\",\n                    \"value\": 40\n                },\n                {\n                    \"name\": \"\\u5c71\\u4e1c\",\n                    \"value\": 39\n                },\n                {\n                    \"name\": \"\\u6c5f\\u897f\",\n                    \"value\": 36\n                },\n                {\n                    \"name\": \"\\u5e7f\\u897f\",\n                    \"value\": 33\n                },\n                {\n                    \"name\": \"\\u6c5f\\u82cf\",\n                    \"value\": 31\n                },\n                {\n                    \"name\": \"\\u6d77\\u5357\",\n                    \"value\": 22\n                },\n                {\n                    \"name\": \"\\u9655\\u897f\",\n                    \"value\": 22\n                },\n                {\n                    \"name\": \"\\u8fbd\\u5b81\",\n                    \"value\": 19\n                },\n                {\n                    \"name\": \"\\u798f\\u5efa\",\n                    \"value\": 18\n                },\n                {\n                    \"name\": \"\\u9ed1\\u9f99\\u6c5f\",\n                    \"value\": 15\n                },\n                {\n                    \"name\": \"\\u5929\\u6d25\",\n                    \"value\": 13\n                },\n                {\n                    \"name\": \"\\u6cb3\\u5317\",\n                    \"value\": 13\n                },\n                {\n                    \"name\": \"\\u4e91\\u5357\",\n                    \"value\": 11\n                },\n                {\n                    \"name\": \"\\u5c71\\u897f\",\n                    \"value\": 9\n                },\n                {\n                    \"name\": \"\\u5185\\u8499\\u53e4\",\n                    \"value\": 7\n                },\n                {\n                    \"name\": \"\\u7518\\u8083\",\n                    \"value\": 7\n                },\n                {\n                    \"name\": \"\\u8d35\\u5dde\",\n                    \"value\": 5\n                },\n                {\n                    \"name\": \"\\u9999\\u6e2f\",\n                    \"value\": 5\n                },\n                {\n                    \"name\": \"\\u5b81\\u590f\",\n                    \"value\": 4\n                },\n                {\n                    \"name\": \"\\u5409\\u6797\",\n                    \"value\": 4\n                },\n                {\n                    \"name\": \"\\u65b0\\u7586\",\n                    \"value\": 4\n                },\n                {\n                    \"name\": \"\\u53f0\\u6e7e\",\n                    \"value\": 3\n                },\n                {\n                    \"name\": \"\\u6fb3\\u95e8\",\n                    \"value\": 2\n                },\n                {\n                    \"name\": \"\\u9752\\u6d77\",\n                    \"value\": 1\n                },\n                {\n                    \"name\": \"\\u897f\\u85cf\",\n                    \"value\": 0\n                }\n            ],\n            \"roam\": true,\n            \"center\": [\n                114.31,\n                30.52\n            ],\n            \"zoom\": 1,\n            \"showLegendSymbol\": true,\n            \"emphasis\": {},\n            \"markArea\": {\n                \"silent\": true,\n                \"label\": {\n                    \"show\": false,\n                    \"position\": \"top\",\n                    \"margin\": 8\n                }\n            },\n            \"rippleEffect\": {\n                \"show\": true,\n                \"brushType\": \"stroke\",\n                \"scale\": 2.5,\n                \"period\": 4\n            }\n        }\n    ],\n    \"legend\": [\n        {\n            \"data\": [\n                \"\\u786e\\u8bca\"\n            ],\n            \"selected\": {\n                \"\\u786e\\u8bca\": true\n            },\n            \"show\": false,\n            \"right\": \"right\",\n            \"top\": \"30%\",\n            \"padding\": 5,\n            \"itemGap\": 10,\n            \"itemWidth\": 25,\n            \"itemHeight\": 14\n        }\n    ],\n    \"tooltip\": {\n        \"show\": true,\n        \"trigger\": \"item\",\n        \"triggerOn\": \"mousemove|click\",\n        \"axisPointer\": {\n            \"type\": \"line\"\n        },\n        \"textStyle\": {\n            \"fontSize\": 14\n        },\n        \"borderWidth\": 0\n    },\n    \"title\": [\n        {\n            \"text\": \"2019nCov\",\n            \"link\": \"https://wuhan.support/\",\n            \"left\": \"left\",\n            \"top\": \"top\",\n            \"padding\": 5,\n            \"itemGap\": 10\n        }\n    ],\n    \"visualMap\": {\n        \"show\": true,\n        \"type\": \"piecewise\",\n        \"min\": 0,\n        \"max\": 1052,\n        \"inRange\": {\n            \"color\": [\n                \"#EEEEEE\",\n                \"#BB2020\"\n            ]\n        },\n        \"calculable\": true,\n        \"inverse\": false,\n        \"splitNumber\": 5,\n        \"orient\": \"vertical\",\n        \"top\": \"middle\",\n        \"right\": \"right\",\n        \"showLabel\": true,\n        \"itemWidth\": 20,\n        \"itemHeight\": 14,\n        \"borderWidth\": 0,\n        \"pieces\": [\n            {\n                \"value\": 0,\n                \"color\": \"white\"\n            },\n            {\n                \"min\": 1,\n                \"max\": 9\n            },\n            {\n                \"min\": 10,\n                \"max\": 99\n            },\n            {\n                \"min\": 100,\n                \"max\": 999\n            },\n            {\n                \"min\": 1000\n            }\n        ]\n    }\n};\n                chart_999c604969aa4cff9d6a2890f71f4c8c.setOption(option_999c604969aa4cff9d6a2890f71f4c8c);\n        });\n    </script>\n"
     },
     "metadata": {},
     "output_type": "execute_result",
     "execution_count": 100
    }
   ],
   "source": [
    "map.render_notebook()"
   ],
   "metadata": {
    "collapsed": false,
    "pycharm": {
     "name": "#%%\n",
     "is_executing": false
    }
   }
  },
  {
   "cell_type": "code",
   "execution_count": null,
   "outputs": [],
   "source": [
    "\n"
   ],
   "metadata": {
    "collapsed": false,
    "pycharm": {
     "name": "#%%\n"
    }
   }
  }
 ],
 "metadata": {
  "language_info": {
   "codemirror_mode": {
    "name": "ipython",
    "version": 2
   },
   "file_extension": ".py",
   "mimetype": "text/x-python",
   "name": "python",
   "nbconvert_exporter": "python",
   "pygments_lexer": "ipython2",
   "version": "2.7.6"
  },
  "kernelspec": {
   "name": "python3",
   "language": "python",
   "display_name": "Python 3"
  },
  "pycharm": {
   "stem_cell": {
    "cell_type": "raw",
    "source": [],
    "metadata": {
     "collapsed": false
    }
   }
  }
 },
 "nbformat": 4,
 "nbformat_minor": 0
}